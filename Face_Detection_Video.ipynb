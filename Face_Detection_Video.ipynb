{
 "cells": [
  {
   "cell_type": "markdown",
   "id": "9e1cb717-9fa3-4cd9-b370-6e78128bdd18",
   "metadata": {},
   "source": [
    "# Model Creation"
   ]
  },
  {
   "cell_type": "code",
   "execution_count": 1,
   "id": "4e8a41ce-1fca-4859-9e48-ec104678cc43",
   "metadata": {},
   "outputs": [
    {
     "name": "stdout",
     "output_type": "stream",
     "text": [
      "Collecting imutils\n",
      "  Downloading imutils-0.5.4.tar.gz (17 kB)\n",
      "  Preparing metadata (setup.py): started\n",
      "  Preparing metadata (setup.py): finished with status 'done'\n",
      "Building wheels for collected packages: imutils\n",
      "  Building wheel for imutils (setup.py): started\n",
      "  Building wheel for imutils (setup.py): finished with status 'done'\n",
      "  Created wheel for imutils: filename=imutils-0.5.4-py3-none-any.whl size=25890 sha256=9e5fa0d09c4177706ab4b86eb4671842bc3873928149c55bebbbdb2fd1381324\n",
      "  Stored in directory: c:\\users\\prade\\appdata\\local\\pip\\cache\\wheels\\31\\d0\\2c\\87ce38f6052879e5b7b18f0f8b4a10ad2a9d210e908d449f16\n",
      "Successfully built imutils\n",
      "Installing collected packages: imutils\n",
      "Successfully installed imutils-0.5.4\n",
      "Note: you may need to restart the kernel to use updated packages.\n"
     ]
    },
    {
     "name": "stderr",
     "output_type": "stream",
     "text": [
      "  DEPRECATION: Building 'imutils' using the legacy setup.py bdist_wheel mechanism, which will be removed in a future version. pip 25.3 will enforce this behaviour change. A possible replacement is to use the standardized build interface by setting the `--use-pep517` option, (possibly combined with `--no-build-isolation`), or adding a `pyproject.toml` file to the source tree of 'imutils'. Discussion can be found at https://github.com/pypa/pip/issues/6334\n"
     ]
    }
   ],
   "source": [
    "pip install imutils"
   ]
  },
  {
   "cell_type": "code",
   "execution_count": 1,
   "id": "f3dc39a4-6665-41a4-ae37-d648451b5056",
   "metadata": {},
   "outputs": [
    {
     "name": "stdout",
     "output_type": "stream",
     "text": [
      "Collecting opencv-python\n",
      "  Downloading opencv_python-4.12.0.88-cp37-abi3-win_amd64.whl.metadata (19 kB)\n",
      "Collecting numpy<2.3.0,>=2 (from opencv-python)\n",
      "  Downloading numpy-2.2.6-cp311-cp311-win_amd64.whl.metadata (60 kB)\n",
      "Downloading opencv_python-4.12.0.88-cp37-abi3-win_amd64.whl (39.0 MB)\n",
      "   ---------------------------------------- 0.0/39.0 MB ? eta -:--:--\n",
      "    --------------------------------------- 0.8/39.0 MB 5.6 MB/s eta 0:00:07\n",
      "   - -------------------------------------- 1.8/39.0 MB 4.4 MB/s eta 0:00:09\n",
      "   -- ------------------------------------- 2.6/39.0 MB 4.2 MB/s eta 0:00:09\n",
      "   --- ------------------------------------ 3.4/39.0 MB 4.1 MB/s eta 0:00:09\n",
      "   ---- ----------------------------------- 4.5/39.0 MB 4.1 MB/s eta 0:00:09\n",
      "   ----- ---------------------------------- 5.0/39.0 MB 4.0 MB/s eta 0:00:09\n",
      "   ------ --------------------------------- 6.0/39.0 MB 4.0 MB/s eta 0:00:09\n",
      "   ------ --------------------------------- 6.8/39.0 MB 4.0 MB/s eta 0:00:09\n",
      "   ------- -------------------------------- 7.6/39.0 MB 4.0 MB/s eta 0:00:08\n",
      "   -------- ------------------------------- 8.4/39.0 MB 4.0 MB/s eta 0:00:08\n",
      "   --------- ------------------------------ 9.2/39.0 MB 4.0 MB/s eta 0:00:08\n",
      "   ---------- ----------------------------- 10.0/39.0 MB 4.0 MB/s eta 0:00:08\n",
      "   ----------- ---------------------------- 10.7/39.0 MB 3.9 MB/s eta 0:00:08\n",
      "   ----------- ---------------------------- 11.5/39.0 MB 4.0 MB/s eta 0:00:07\n",
      "   ------------ --------------------------- 12.3/39.0 MB 3.9 MB/s eta 0:00:07\n",
      "   ------------- -------------------------- 13.1/39.0 MB 4.0 MB/s eta 0:00:07\n",
      "   -------------- ------------------------- 13.9/39.0 MB 3.9 MB/s eta 0:00:07\n",
      "   --------------- ------------------------ 14.7/39.0 MB 3.9 MB/s eta 0:00:07\n",
      "   ---------------- ----------------------- 15.7/39.0 MB 3.9 MB/s eta 0:00:06\n",
      "   ---------------- ----------------------- 16.5/39.0 MB 3.9 MB/s eta 0:00:06\n",
      "   ----------------- ---------------------- 17.3/39.0 MB 3.9 MB/s eta 0:00:06\n",
      "   ------------------ --------------------- 18.1/39.0 MB 3.9 MB/s eta 0:00:06\n",
      "   ------------------- -------------------- 18.9/39.0 MB 3.9 MB/s eta 0:00:06\n",
      "   -------------------- ------------------- 19.7/39.0 MB 3.9 MB/s eta 0:00:05\n",
      "   -------------------- ------------------- 20.4/39.0 MB 3.9 MB/s eta 0:00:05\n",
      "   --------------------- ------------------ 21.2/39.0 MB 3.9 MB/s eta 0:00:05\n",
      "   ---------------------- ----------------- 22.0/39.0 MB 3.9 MB/s eta 0:00:05\n",
      "   ----------------------- ---------------- 22.8/39.0 MB 3.9 MB/s eta 0:00:05\n",
      "   ------------------------ --------------- 23.6/39.0 MB 3.9 MB/s eta 0:00:04\n",
      "   ------------------------- -------------- 24.4/39.0 MB 3.9 MB/s eta 0:00:04\n",
      "   ------------------------- -------------- 25.2/39.0 MB 3.9 MB/s eta 0:00:04\n",
      "   -------------------------- ------------- 26.0/39.0 MB 3.9 MB/s eta 0:00:04\n",
      "   --------------------------- ------------ 26.7/39.0 MB 3.9 MB/s eta 0:00:04\n",
      "   ---------------------------- ----------- 27.5/39.0 MB 3.9 MB/s eta 0:00:03\n",
      "   ----------------------------- ---------- 28.3/39.0 MB 3.9 MB/s eta 0:00:03\n",
      "   ----------------------------- ---------- 29.1/39.0 MB 3.9 MB/s eta 0:00:03\n",
      "   ------------------------------ --------- 29.9/39.0 MB 3.9 MB/s eta 0:00:03\n",
      "   ------------------------------- -------- 30.7/39.0 MB 3.9 MB/s eta 0:00:03\n",
      "   -------------------------------- ------- 31.5/39.0 MB 3.9 MB/s eta 0:00:02\n",
      "   --------------------------------- ------ 32.5/39.0 MB 3.9 MB/s eta 0:00:02\n",
      "   ---------------------------------- ----- 33.3/39.0 MB 3.9 MB/s eta 0:00:02\n",
      "   ---------------------------------- ----- 34.1/39.0 MB 3.9 MB/s eta 0:00:02\n",
      "   ----------------------------------- ---- 34.9/39.0 MB 3.9 MB/s eta 0:00:02\n",
      "   ------------------------------------ --- 35.7/39.0 MB 3.9 MB/s eta 0:00:01\n",
      "   ------------------------------------- -- 36.4/39.0 MB 3.9 MB/s eta 0:00:01\n",
      "   -------------------------------------- - 37.2/39.0 MB 3.9 MB/s eta 0:00:01\n",
      "   -------------------------------------- - 38.0/39.0 MB 3.9 MB/s eta 0:00:01\n",
      "   ---------------------------------------  38.8/39.0 MB 3.9 MB/s eta 0:00:01\n",
      "   ---------------------------------------- 39.0/39.0 MB 3.9 MB/s eta 0:00:00\n",
      "Downloading numpy-2.2.6-cp311-cp311-win_amd64.whl (12.9 MB)\n",
      "   ---------------------------------------- 0.0/12.9 MB ? eta -:--:--\n",
      "   --- ------------------------------------ 1.0/12.9 MB 5.0 MB/s eta 0:00:03\n",
      "   ----- ---------------------------------- 1.8/12.9 MB 4.6 MB/s eta 0:00:03\n",
      "   -------- ------------------------------- 2.6/12.9 MB 4.3 MB/s eta 0:00:03\n",
      "   ---------- ----------------------------- 3.4/12.9 MB 4.1 MB/s eta 0:00:03\n",
      "   ------------ --------------------------- 4.2/12.9 MB 4.1 MB/s eta 0:00:03\n",
      "   --------------- ------------------------ 5.0/12.9 MB 4.0 MB/s eta 0:00:02\n",
      "   ----------------- ---------------------- 5.8/12.9 MB 4.1 MB/s eta 0:00:02\n",
      "   -------------------- ------------------- 6.6/12.9 MB 4.0 MB/s eta 0:00:02\n",
      "   ---------------------- ----------------- 7.3/12.9 MB 4.0 MB/s eta 0:00:02\n",
      "   ------------------------- -------------- 8.1/12.9 MB 4.0 MB/s eta 0:00:02\n",
      "   --------------------------- ------------ 8.9/12.9 MB 4.0 MB/s eta 0:00:02\n",
      "   ------------------------------ --------- 10.0/12.9 MB 4.0 MB/s eta 0:00:01\n",
      "   --------------------------------- ------ 10.7/12.9 MB 3.9 MB/s eta 0:00:01\n",
      "   ----------------------------------- ---- 11.5/12.9 MB 4.0 MB/s eta 0:00:01\n",
      "   -------------------------------------- - 12.3/12.9 MB 4.0 MB/s eta 0:00:01\n",
      "   ---------------------------------------- 12.9/12.9 MB 3.9 MB/s eta 0:00:00\n",
      "Installing collected packages: numpy, opencv-python\n",
      "\n",
      "  Attempting uninstall: numpy\n",
      "\n",
      "    Found existing installation: numpy 2.3.2\n",
      "\n",
      "   ---------------------------------------- 0/2 [numpy]\n",
      "    Uninstalling numpy-2.3.2:\n",
      "   ---------------------------------------- 0/2 [numpy]\n",
      "   ---------------------------------------- 0/2 [numpy]\n",
      "      Successfully uninstalled numpy-2.3.2\n",
      "   ---------------------------------------- 0/2 [numpy]\n",
      "   ---------------------------------------- 0/2 [numpy]\n",
      "   ---------------------------------------- 0/2 [numpy]\n",
      "   ---------------------------------------- 0/2 [numpy]\n",
      "   ---------------------------------------- 0/2 [numpy]\n",
      "   ---------------------------------------- 0/2 [numpy]\n",
      "   ---------------------------------------- 0/2 [numpy]\n",
      "   ---------------------------------------- 0/2 [numpy]\n",
      "   ---------------------------------------- 0/2 [numpy]\n",
      "   ---------------------------------------- 0/2 [numpy]\n",
      "   ---------------------------------------- 0/2 [numpy]\n",
      "   ---------------------------------------- 0/2 [numpy]\n",
      "   ---------------------------------------- 0/2 [numpy]\n",
      "   ---------------------------------------- 0/2 [numpy]\n",
      "   ---------------------------------------- 0/2 [numpy]\n",
      "   ---------------------------------------- 0/2 [numpy]\n",
      "   ---------------------------------------- 0/2 [numpy]\n",
      "   ---------------------------------------- 0/2 [numpy]\n",
      "   ---------------------------------------- 0/2 [numpy]\n",
      "   ---------------------------------------- 0/2 [numpy]\n",
      "   ---------------------------------------- 0/2 [numpy]\n",
      "   ---------------------------------------- 0/2 [numpy]\n",
      "   ---------------------------------------- 0/2 [numpy]\n",
      "   ---------------------------------------- 0/2 [numpy]\n",
      "   ---------------------------------------- 0/2 [numpy]\n",
      "   ---------------------------------------- 0/2 [numpy]\n",
      "   ---------------------------------------- 0/2 [numpy]\n",
      "   ---------------------------------------- 0/2 [numpy]\n",
      "   ---------------------------------------- 0/2 [numpy]\n",
      "   ---------------------------------------- 0/2 [numpy]\n",
      "   ---------------------------------------- 0/2 [numpy]\n",
      "   ---------------------------------------- 0/2 [numpy]\n",
      "   ---------------------------------------- 0/2 [numpy]\n",
      "   ---------------------------------------- 0/2 [numpy]\n",
      "   ---------------------------------------- 0/2 [numpy]\n",
      "   ---------------------------------------- 0/2 [numpy]\n",
      "   ---------------------------------------- 0/2 [numpy]\n",
      "   ---------------------------------------- 0/2 [numpy]\n",
      "   ---------------------------------------- 0/2 [numpy]\n",
      "   ---------------------------------------- 0/2 [numpy]\n",
      "   ---------------------------------------- 0/2 [numpy]\n",
      "   ---------------------------------------- 0/2 [numpy]\n",
      "   ---------------------------------------- 0/2 [numpy]\n",
      "   ---------------------------------------- 0/2 [numpy]\n",
      "   ---------------------------------------- 0/2 [numpy]\n",
      "   ---------------------------------------- 0/2 [numpy]\n",
      "   ---------------------------------------- 0/2 [numpy]\n",
      "   ---------------------------------------- 0/2 [numpy]\n",
      "   ---------------------------------------- 0/2 [numpy]\n",
      "   ---------------------------------------- 0/2 [numpy]\n",
      "   ---------------------------------------- 0/2 [numpy]\n",
      "   ---------------------------------------- 0/2 [numpy]\n",
      "   ---------------------------------------- 0/2 [numpy]\n",
      "   ---------------------------------------- 0/2 [numpy]\n",
      "   ---------------------------------------- 0/2 [numpy]\n",
      "   ---------------------------------------- 0/2 [numpy]\n",
      "   ---------------------------------------- 0/2 [numpy]\n",
      "   ---------------------------------------- 0/2 [numpy]\n",
      "   ---------------------------------------- 0/2 [numpy]\n",
      "   ---------------------------------------- 0/2 [numpy]\n",
      "   ---------------------------------------- 0/2 [numpy]\n",
      "   ---------------------------------------- 0/2 [numpy]\n",
      "   ---------------------------------------- 0/2 [numpy]\n",
      "   ---------------------------------------- 0/2 [numpy]\n",
      "   ---------------------------------------- 0/2 [numpy]\n",
      "   ---------------------------------------- 0/2 [numpy]\n",
      "   ---------------------------------------- 0/2 [numpy]\n",
      "   ---------------------------------------- 0/2 [numpy]\n",
      "   ---------------------------------------- 0/2 [numpy]\n",
      "   ---------------------------------------- 0/2 [numpy]\n",
      "   ---------------------------------------- 0/2 [numpy]\n",
      "   ---------------------------------------- 0/2 [numpy]\n",
      "   ---------------------------------------- 0/2 [numpy]\n",
      "   ---------------------------------------- 0/2 [numpy]\n",
      "   ---------------------------------------- 0/2 [numpy]\n",
      "   -------------------- ------------------- 1/2 [opencv-python]\n",
      "   -------------------- ------------------- 1/2 [opencv-python]\n",
      "   -------------------- ------------------- 1/2 [opencv-python]\n",
      "   ---------------------------------------- 2/2 [opencv-python]\n",
      "\n",
      "Successfully installed numpy-2.2.6 opencv-python-4.12.0.88\n",
      "Note: you may need to restart the kernel to use updated packages.\n"
     ]
    },
    {
     "name": "stderr",
     "output_type": "stream",
     "text": [
      "  WARNING: Failed to remove contents in a temporary directory 'E:\\anaconda\\envs\\ML\\Lib\\site-packages\\~umpy.libs'.\n",
      "  You can safely remove it manually.\n",
      "  WARNING: Failed to remove contents in a temporary directory 'E:\\anaconda\\envs\\ML\\Lib\\site-packages\\~umpy'.\n",
      "  You can safely remove it manually.\n"
     ]
    }
   ],
   "source": [
    "pip install opencv-python"
   ]
  },
  {
   "cell_type": "code",
   "execution_count": 1,
   "id": "f75d3b3e-20df-4782-ab49-e309329f4241",
   "metadata": {},
   "outputs": [],
   "source": [
    "from tensorflow.keras.preprocessing.image import ImageDataGenerator\n",
    "from tensorflow.keras.applications import MobileNetV2\n",
    "from tensorflow.keras.layers import AveragePooling2D\n",
    "from tensorflow.keras.layers import Dropout\n",
    "from tensorflow.keras.layers import Flatten\n",
    "from tensorflow.keras.layers import Dense\n",
    "from tensorflow.keras.layers import Input\n",
    "from tensorflow.keras.models import Model\n",
    "from tensorflow.keras.optimizers import Adam\n",
    "from tensorflow.keras.applications.mobilenet_v2 import preprocess_input\n",
    "from tensorflow.keras.preprocessing.image import img_to_array\n",
    "from tensorflow.keras.preprocessing.image import load_img\n",
    "from tensorflow.keras.utils import to_categorical\n",
    "from sklearn.preprocessing import LabelBinarizer\n",
    "from sklearn.model_selection import train_test_split\n",
    "from sklearn.metrics import classification_report\n",
    "from imutils import paths\n",
    "import matplotlib.pyplot as plt\n",
    "import numpy as np\n",
    "import os"
   ]
  },
  {
   "cell_type": "markdown",
   "id": "3f410799-c41d-45ca-98cf-3b92d7ac3aee",
   "metadata": {},
   "source": [
    "#### **MobileNet library**\n",
    "for object detection\n",
    "\n",
    "**Flatten**"
   ]
  },
  {
   "cell_type": "code",
   "execution_count": 2,
   "id": "2c7b6c2c-28c2-4489-ba57-0cbea2fb2240",
   "metadata": {},
   "outputs": [],
   "source": [
    "INIT_LR = 1e-4 #Initial Learning rate\n",
    "EPOCHS=20\n",
    "BS=32 # Batch size"
   ]
  },
  {
   "cell_type": "code",
   "execution_count": 3,
   "id": "f439dcfd-8bbd-4fc9-a342-3940891bb055",
   "metadata": {},
   "outputs": [],
   "source": [
    "directory = r'C:\\Users\\prade\\OneDrive\\Desktop\\data_science\\Machine Learning\\Projects\\PrepInsta Video Based Facemask Detection\\dataset'\n",
    "categories = [\"with_mask\",\"without_mask\"]"
   ]
  },
  {
   "cell_type": "code",
   "execution_count": 4,
   "id": "8c74bd00-959a-4bda-86bc-668c13827c18",
   "metadata": {},
   "outputs": [
    {
     "name": "stdout",
     "output_type": "stream",
     "text": [
      "[INFO] loading images........\n"
     ]
    },
    {
     "name": "stderr",
     "output_type": "stream",
     "text": [
      "E:\\anaconda\\envs\\ML\\Lib\\site-packages\\PIL\\Image.py:1047: UserWarning: Palette images with Transparency expressed in bytes should be converted to RGBA images\n",
      "  warnings.warn(\n"
     ]
    }
   ],
   "source": [
    "# Grab the list of images in our dataset directoryy then initialize\n",
    "\n",
    "print(\"[INFO] loading images........\")\n",
    "\n",
    "data=[]\n",
    "labels=[] # with mask and without mask\n",
    "\n",
    "for category in categories:\n",
    "    path = os.path.join(directory, category)\n",
    "    for img in os.listdir(path):\n",
    "        img_path = os.path.join(path, img)\n",
    "        image = load_img(img_path, target_size=(224,224))\n",
    "        image = img_to_array(image)\n",
    "        image = preprocess_input(image)\n",
    "\n",
    "        data.append(image)\n",
    "        labels.append(category)"
   ]
  },
  {
   "cell_type": "code",
   "execution_count": 5,
   "id": "618d3c42-6519-43fc-82d8-00d6ae1d86f0",
   "metadata": {},
   "outputs": [],
   "source": [
    "# Performing One-Hot encoding to labels\n",
    "\n",
    "lb = LabelBinarizer()\n",
    "\n",
    "labels = lb.fit_transform(labels)\n",
    "labels = to_categorical(labels)\n",
    "\n",
    "data = np.array(data, dtype=\"float32\")\n",
    "labels = np.array(labels)\n",
    "(trainX,testX,trainY,testY) = train_test_split(data, labels,test_size=0.2, stratify = labels, random_state=42)"
   ]
  },
  {
   "cell_type": "code",
   "execution_count": 6,
   "id": "15e2de03-f1f3-41a4-bac1-17c159671c4d",
   "metadata": {},
   "outputs": [],
   "source": [
    "# Construct the training image generator for data augmentation\n",
    "\n",
    "aug = ImageDataGenerator(rotation_range=20,zoom_range=0.15,width_shift_range=0.2,height_shift_range=0.2,shear_range=0.15,horizontal_flip=True,fill_mode=\"nearest\")"
   ]
  },
  {
   "cell_type": "code",
   "execution_count": 7,
   "id": "b77cc3b1-83cf-469f-aab5-13c84f87be38",
   "metadata": {},
   "outputs": [
    {
     "name": "stderr",
     "output_type": "stream",
     "text": [
      "C:\\Users\\prade\\AppData\\Local\\Temp\\ipykernel_23132\\4191542458.py:3: UserWarning: `input_shape` is undefined or non-square, or `rows` is not in [96, 128, 160, 192, 224]. Weights for input shape (224, 224) will be loaded as the default.\n",
      "  baseModel = MobileNetV2(weights=\"imagenet\",include_top=False,input_tensor=Input(shape=(224,224,3)))\n"
     ]
    }
   ],
   "source": [
    "# Load the MobileNetV2 network, ensuring the head FC layer sets are left off\n",
    "\n",
    "baseModel = MobileNetV2(weights=\"imagenet\",include_top=False,input_tensor=Input(shape=(224,224,3)))"
   ]
  },
  {
   "cell_type": "code",
   "execution_count": 8,
   "id": "746fd8aa-9329-4d4c-acc8-b8199d2c6ec7",
   "metadata": {},
   "outputs": [],
   "source": [
    "headModel = baseModel.output\n",
    "headModel = AveragePooling2D(pool_size=(7,7))(headModel)\n",
    "headModel = Flatten(name=\"flatten\")(headModel)\n",
    "headModel = Dense(128,activation='relu')(headModel)\n",
    "headModel = Dropout(0.5)(headModel)\n",
    "headModel = Dense(2,activation='softmax')(headModel)"
   ]
  },
  {
   "cell_type": "code",
   "execution_count": 9,
   "id": "bc8a8a00-0afb-4b75-b0a1-d1407c674bf5",
   "metadata": {},
   "outputs": [],
   "source": [
    "# place the head FC model on top of base model (this will become the actual model we will train)\n",
    "model = Model(inputs=baseModel.input, outputs=headModel)\n",
    "\n",
    "#loop over all layers in the base model and freeze them so they will not be updated during the first training process\n",
    "for layer in baseModel.layers:\n",
    "    layer.trainable=False"
   ]
  },
  {
   "cell_type": "code",
   "execution_count": 12,
   "id": "95b9f687-2fd4-4b47-aeed-8acee7cacc21",
   "metadata": {},
   "outputs": [
    {
     "name": "stdout",
     "output_type": "stream",
     "text": [
      "[INFO] compiling model.....\n",
      "[INFO] Training model........\n"
     ]
    },
    {
     "name": "stderr",
     "output_type": "stream",
     "text": [
      "E:\\anaconda\\envs\\ML\\Lib\\site-packages\\keras\\src\\trainers\\data_adapters\\py_dataset_adapter.py:121: UserWarning: Your `PyDataset` class should call `super().__init__(**kwargs)` in its constructor. `**kwargs` can include `workers`, `use_multiprocessing`, `max_queue_size`. Do not pass these arguments to `fit()`, as they will be ignored.\n",
      "  self._warn_if_super_not_called()\n"
     ]
    },
    {
     "name": "stdout",
     "output_type": "stream",
     "text": [
      "Epoch 1/20\n",
      "\u001b[1m95/95\u001b[0m \u001b[32m━━━━━━━━━━━━━━━━━━━━\u001b[0m\u001b[37m\u001b[0m \u001b[1m108s\u001b[0m 1s/step - accuracy: 0.8563 - loss: 0.3906 - val_accuracy: 0.9791 - val_loss: 0.1458\n",
      "Epoch 2/20\n",
      "\u001b[1m 1/95\u001b[0m \u001b[37m━━━━━━━━━━━━━━━━━━━━\u001b[0m \u001b[1m1:11\u001b[0m 761ms/step - accuracy: 1.0000 - loss: 0.0922"
     ]
    },
    {
     "name": "stderr",
     "output_type": "stream",
     "text": [
      "E:\\anaconda\\envs\\ML\\Lib\\site-packages\\keras\\src\\trainers\\epoch_iterator.py:116: UserWarning: Your input ran out of data; interrupting training. Make sure that your dataset or generator can generate at least `steps_per_epoch * epochs` batches. You may need to use the `.repeat()` function when building your dataset.\n",
      "  self._interrupted_warning()\n"
     ]
    },
    {
     "name": "stdout",
     "output_type": "stream",
     "text": [
      "\u001b[1m95/95\u001b[0m \u001b[32m━━━━━━━━━━━━━━━━━━━━\u001b[0m\u001b[37m\u001b[0m \u001b[1m19s\u001b[0m 195ms/step - accuracy: 1.0000 - loss: 0.0922 - val_accuracy: 0.9791 - val_loss: 0.1445\n",
      "Epoch 3/20\n",
      "\u001b[1m95/95\u001b[0m \u001b[32m━━━━━━━━━━━━━━━━━━━━\u001b[0m\u001b[37m\u001b[0m \u001b[1m98s\u001b[0m 1s/step - accuracy: 0.9684 - loss: 0.1409 - val_accuracy: 0.9896 - val_loss: 0.0767\n",
      "Epoch 4/20\n",
      "\u001b[1m95/95\u001b[0m \u001b[32m━━━━━━━━━━━━━━━━━━━━\u001b[0m\u001b[37m\u001b[0m \u001b[1m17s\u001b[0m 172ms/step - accuracy: 1.0000 - loss: 0.0982 - val_accuracy: 0.9896 - val_loss: 0.0757\n",
      "Epoch 5/20\n",
      "\u001b[1m95/95\u001b[0m \u001b[32m━━━━━━━━━━━━━━━━━━━━\u001b[0m\u001b[37m\u001b[0m \u001b[1m88s\u001b[0m 932ms/step - accuracy: 0.9763 - loss: 0.0976 - val_accuracy: 0.9935 - val_loss: 0.0516\n",
      "Epoch 6/20\n",
      "\u001b[1m95/95\u001b[0m \u001b[32m━━━━━━━━━━━━━━━━━━━━\u001b[0m\u001b[37m\u001b[0m \u001b[1m17s\u001b[0m 171ms/step - accuracy: 1.0000 - loss: 0.0741 - val_accuracy: 0.9935 - val_loss: 0.0514\n",
      "Epoch 7/20\n",
      "\u001b[1m95/95\u001b[0m \u001b[32m━━━━━━━━━━━━━━━━━━━━\u001b[0m\u001b[37m\u001b[0m \u001b[1m88s\u001b[0m 926ms/step - accuracy: 0.9733 - loss: 0.0798 - val_accuracy: 0.9935 - val_loss: 0.0437\n",
      "Epoch 8/20\n",
      "\u001b[1m95/95\u001b[0m \u001b[32m━━━━━━━━━━━━━━━━━━━━\u001b[0m\u001b[37m\u001b[0m \u001b[1m17s\u001b[0m 172ms/step - accuracy: 1.0000 - loss: 0.0222 - val_accuracy: 0.9935 - val_loss: 0.0433\n",
      "Epoch 9/20\n",
      "\u001b[1m95/95\u001b[0m \u001b[32m━━━━━━━━━━━━━━━━━━━━\u001b[0m\u001b[37m\u001b[0m \u001b[1m88s\u001b[0m 927ms/step - accuracy: 0.9832 - loss: 0.0643 - val_accuracy: 0.9935 - val_loss: 0.0390\n",
      "Epoch 10/20\n",
      "\u001b[1m95/95\u001b[0m \u001b[32m━━━━━━━━━━━━━━━━━━━━\u001b[0m\u001b[37m\u001b[0m \u001b[1m18s\u001b[0m 184ms/step - accuracy: 1.0000 - loss: 0.0554 - val_accuracy: 0.9948 - val_loss: 0.0395\n",
      "Epoch 11/20\n",
      "\u001b[1m95/95\u001b[0m \u001b[32m━━━━━━━━━━━━━━━━━━━━\u001b[0m\u001b[37m\u001b[0m \u001b[1m91s\u001b[0m 957ms/step - accuracy: 0.9832 - loss: 0.0572 - val_accuracy: 0.9935 - val_loss: 0.0339\n",
      "Epoch 12/20\n",
      "\u001b[1m95/95\u001b[0m \u001b[32m━━━━━━━━━━━━━━━━━━━━\u001b[0m\u001b[37m\u001b[0m \u001b[1m22s\u001b[0m 224ms/step - accuracy: 0.9688 - loss: 0.0837 - val_accuracy: 0.9935 - val_loss: 0.0339\n",
      "Epoch 13/20\n",
      "\u001b[1m95/95\u001b[0m \u001b[32m━━━━━━━━━━━━━━━━━━━━\u001b[0m\u001b[37m\u001b[0m \u001b[1m112s\u001b[0m 1s/step - accuracy: 0.9835 - loss: 0.0541 - val_accuracy: 0.9935 - val_loss: 0.0322\n",
      "Epoch 14/20\n",
      "\u001b[1m95/95\u001b[0m \u001b[32m━━━━━━━━━━━━━━━━━━━━\u001b[0m\u001b[37m\u001b[0m \u001b[1m23s\u001b[0m 230ms/step - accuracy: 0.9688 - loss: 0.0635 - val_accuracy: 0.9935 - val_loss: 0.0324\n",
      "Epoch 15/20\n",
      "\u001b[1m95/95\u001b[0m \u001b[32m━━━━━━━━━━━━━━━━━━━━\u001b[0m\u001b[37m\u001b[0m \u001b[1m99s\u001b[0m 1s/step - accuracy: 0.9835 - loss: 0.0537 - val_accuracy: 0.9948 - val_loss: 0.0307\n",
      "Epoch 16/20\n",
      "\u001b[1m95/95\u001b[0m \u001b[32m━━━━━━━━━━━━━━━━━━━━\u001b[0m\u001b[37m\u001b[0m \u001b[1m21s\u001b[0m 209ms/step - accuracy: 0.9375 - loss: 0.1498 - val_accuracy: 0.9948 - val_loss: 0.0308\n",
      "Epoch 17/20\n",
      "\u001b[1m95/95\u001b[0m \u001b[32m━━━━━━━━━━━━━━━━━━━━\u001b[0m\u001b[37m\u001b[0m \u001b[1m113s\u001b[0m 1s/step - accuracy: 0.9862 - loss: 0.0469 - val_accuracy: 0.9948 - val_loss: 0.0290\n",
      "Epoch 18/20\n",
      "\u001b[1m95/95\u001b[0m \u001b[32m━━━━━━━━━━━━━━━━━━━━\u001b[0m\u001b[37m\u001b[0m \u001b[1m21s\u001b[0m 217ms/step - accuracy: 1.0000 - loss: 0.0042 - val_accuracy: 0.9948 - val_loss: 0.0289\n",
      "Epoch 19/20\n",
      "\u001b[1m95/95\u001b[0m \u001b[32m━━━━━━━━━━━━━━━━━━━━\u001b[0m\u001b[37m\u001b[0m \u001b[1m110s\u001b[0m 1s/step - accuracy: 0.9858 - loss: 0.0430 - val_accuracy: 0.9948 - val_loss: 0.0279\n",
      "Epoch 20/20\n",
      "\u001b[1m95/95\u001b[0m \u001b[32m━━━━━━━━━━━━━━━━━━━━\u001b[0m\u001b[37m\u001b[0m \u001b[1m23s\u001b[0m 232ms/step - accuracy: 1.0000 - loss: 0.0093 - val_accuracy: 0.9948 - val_loss: 0.0279\n"
     ]
    }
   ],
   "source": [
    "# Compile our Model\n",
    "print(\"[INFO] compiling model.....\")\n",
    "\n",
    "opt = Adam(learning_rate=INIT_LR, decay=INIT_LR / EPOCHS)\n",
    "model.compile(loss=\"binary_crossentropy\", optimizer=opt, metrics=['accuracy'])\n",
    "\n",
    "# Train the head of the network\n",
    "print(\"[INFO] Training model........\")\n",
    "\n",
    "H = model.fit(aug.flow(trainX, trainY, batch_size=BS), steps_per_epoch=len(trainX)//BS, validation_data = (testX,testY), validation_steps=len(testX)//BS, epochs=EPOCHS)"
   ]
  },
  {
   "cell_type": "code",
   "execution_count": 16,
   "id": "04efb8fa-94d7-4f9b-a83a-4c34e3d89ccf",
   "metadata": {},
   "outputs": [
    {
     "name": "stdout",
     "output_type": "stream",
     "text": [
      "[INFO] evaluating network.......\n",
      "\u001b[1m24/24\u001b[0m \u001b[32m━━━━━━━━━━━━━━━━━━━━\u001b[0m\u001b[37m\u001b[0m \u001b[1m19s\u001b[0m 775ms/step\n",
      "              precision    recall  f1-score   support\n",
      "\n",
      "   with_mask       0.99      0.99      0.99       383\n",
      "without_mask       0.99      0.99      0.99       384\n",
      "\n",
      "    accuracy                           0.99       767\n",
      "   macro avg       0.99      0.99      0.99       767\n",
      "weighted avg       0.99      0.99      0.99       767\n",
      "\n",
      "[INFO] Saving mask detector model now.............\n"
     ]
    }
   ],
   "source": [
    "# Make Predictions on the training set\n",
    "print(\"[INFO] evaluating network.......\")\n",
    "predIdxs = model.predict(testX, batch_size=BS)\n",
    "\n",
    "# for each image in testing set we need to find the index of label with corresponding largest prediced probability\n",
    "predIdxs = np.argmax(predIdxs, axis=1)\n",
    "\n",
    "# show a nicely formatted classification report\n",
    "print(classification_report(testY.argmax(axis=1), predIdxs, target_names = lb.classes_))\n",
    "\n",
    "# serialize the model to disk\n",
    "print(\"[INFO] Saving mask detector model now.............\")\n",
    "model.save(\"Mask_detector.keras\")"
   ]
  },
  {
   "cell_type": "code",
   "execution_count": null,
   "id": "8e46387b-1f83-4744-81ae-ef09636f343b",
   "metadata": {},
   "outputs": [],
   "source": []
  }
 ],
 "metadata": {
  "kernelspec": {
   "display_name": "Python 3 (ipykernel)",
   "language": "python",
   "name": "python3"
  },
  "language_info": {
   "codemirror_mode": {
    "name": "ipython",
    "version": 3
   },
   "file_extension": ".py",
   "mimetype": "text/x-python",
   "name": "python",
   "nbconvert_exporter": "python",
   "pygments_lexer": "ipython3",
   "version": "3.11.13"
  }
 },
 "nbformat": 4,
 "nbformat_minor": 5
}
